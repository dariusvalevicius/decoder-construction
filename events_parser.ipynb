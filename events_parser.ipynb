{
 "cells": [
  {
   "cell_type": "code",
   "execution_count": 23,
   "metadata": {},
   "outputs": [],
   "source": [
    "import pandas as pd\n",
    "import os\n",
    "import csv\n",
    "\n",
    "def get_delimiter(file_path, bytes = 4096):\n",
    "    sniffer = csv.Sniffer()\n",
    "    data = open(file_path, \"r\").read(bytes)\n",
    "    delimiter = sniffer.sniff(data).delimiter\n",
    "    return delimiter"
   ]
  },
  {
   "cell_type": "code",
   "execution_count": 2,
   "metadata": {},
   "outputs": [],
   "source": [
    "data_path = \"../data/psychopy\"\n",
    "\n"
   ]
  },
  {
   "cell_type": "code",
   "execution_count": 25,
   "metadata": {},
   "outputs": [
    {
     "name": "stdout",
     "output_type": "stream",
     "text": [
      "Parsing file: ../data/psychopy/sub-01/sub-1_ses-1_run-1_stimuli-1_trials.txt\n",
      "Parsing file: ../data/psychopy/sub-01/sub-1_ses-1_run-2_stimuli-1_trials.txt\n",
      "Parsing file: ../data/psychopy/sub-01/sub-1_ses-2_run-1_stimuli-1_trials.txt\n",
      "Parsing file: ../data/psychopy/sub-01/sub-1_ses-2_run-2_stimuli-1_trials.txt\n",
      "Parsing file: ../data/psychopy/sub-01/sub-1_ses-3_run-1_stimuli-2_trials.txt\n",
      "Parsing file: ../data/psychopy/sub-01/sub-1_ses-3_run-2_stimuli-1_trials.txt\n",
      "Parsing file: ../data/psychopy/sub-01/sub-1_ses-3_run-3_stimuli-2_trials.txt\n",
      "Parsing file: ../data/psychopy/sub-01/sub-1_ses-3_run-4_stimuli-1_trials.txt\n",
      "Parsing file: ../data/psychopy/sub-01/sub-1_ses-4_run-1_stimuli-2_trials.txt\n",
      "Parsing file: ../data/psychopy/sub-01/sub-1_ses-4_run-2_stimuli-1_trials.txt\n",
      "Parsing file: ../data/psychopy/sub-01/sub-1_ses-4_run-3_stimuli-2_trials.txt\n"
     ]
    }
   ],
   "source": [
    "for sub in range(1,2):\n",
    "    for ses in range(1,5):\n",
    "        for run in range(1,5):\n",
    "            for stimuli in range(1,3):\n",
    "\n",
    "                path = f\"{data_path}/sub-0{sub}/sub-{sub}_ses-{ses}_run-{run}_stimuli-{stimuli}_trials.txt\"\n",
    "\n",
    "                if not os.path.isfile(path):\n",
    "                    continue\n",
    "\n",
    "                print(f\"Parsing file: {path}\")\n",
    "\n",
    "                df = pd.read_csv(path, delimiter=get_delimiter(path))\n",
    "\n",
    "                ratings_path = f\"{data_path}/sub-0{sub}/sub-{sub}_stimuli-{stimuli}_ratings.txt\"\n",
    "                ratings_df = pd.read_csv(ratings_path, delimiter=get_delimiter(ratings_path))\n",
    "\n",
    "                merged_df = pd.merge(df, ratings_df, on=\"file\")\n",
    "                # print(merged_df)\n",
    "\n",
    "                df_clean = merged_df[[\"file\", \"category_x\", \"onset\", \"duration\", \"fear\", \"disgust\", \"cute\"]].fillna(0)\n",
    "                df_clean.rename(columns={\"category_x\": \"category\"}, inplace=True)\n",
    "                # print(df_clean.head())\n",
    "\n",
    "                output_path = f\"../data/bids/sub-0{sub}/ses-0{ses}/func/sub-0{sub}_ses-0{ses}_task-video_run-{run}_events.tsv\"\n",
    "                df_clean.to_csv(output_path, sep='\\t', index=False)\n",
    "\n"
   ]
  }
 ],
 "metadata": {
  "kernelspec": {
   "display_name": "Python 3",
   "language": "python",
   "name": "python3"
  },
  "language_info": {
   "codemirror_mode": {
    "name": "ipython",
    "version": 3
   },
   "file_extension": ".py",
   "mimetype": "text/x-python",
   "name": "python",
   "nbconvert_exporter": "python",
   "pygments_lexer": "ipython3",
   "version": "3.8.10"
  }
 },
 "nbformat": 4,
 "nbformat_minor": 2
}
